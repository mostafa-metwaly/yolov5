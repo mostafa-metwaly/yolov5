{
 "cells": [
  {
   "cell_type": "markdown",
   "metadata": {
    "id": "ZM2gt6TZV1Y9"
   },
   "source": [
    "## Import libraries"
   ]
  },
  {
   "cell_type": "code",
   "execution_count": null,
   "metadata": {
    "id": "fFCo0SlSXeSz"
   },
   "outputs": [],
   "source": [
    "# all plots will be set directly below the code cell that produced it\n",
    "%matplotlib inline\n",
    "from matplotlib import pyplot as plt\n",
    "from IPython.display import clear_output\n",
    "# set inline plots size\n",
    "plt.rcParams[\"figure.figsize\"] = (16, 10) # (w, h)\n",
    "# remove grid lines\n",
    "import numpy as np\n",
    "import time\n",
    "import cv2"
   ]
  },
  {
   "cell_type": "markdown",
   "metadata": {
    "id": "W5vKTVbjcdzs"
   },
   "source": [
    "## Helper functions"
   ]
  },
  {
   "cell_type": "code",
   "execution_count": null,
   "metadata": {
    "id": "PxVdg9cVcgim"
   },
   "outputs": [],
   "source": [
    "# funcrion to read and resize an image\n",
    "def read_and_resize(filename, grayscale = False, fx= 0.5, fy=0.5):\n",
    "    if grayscale:\n",
    "      img_result = cv2.imread(filename, cv2.IMREAD_GRAYSCALE)\n",
    "    else:\n",
    "      imgbgr = cv2.imread(filename, cv2.IMREAD_COLOR)\n",
    "      # convert to rgb\n",
    "      img_result = cv2.cvtColor(imgbgr, cv2.COLOR_BGR2RGB)\n",
    "    # resize\n",
    "    img_result = cv2.resize(img_result, None, fx=0.5, fy=0.5, interpolation = cv2.INTER_CUBIC)\n",
    "    return img_result\n",
    "\n",
    "    \n",
    "def showInRow(list_of_images, titles = None, disable_ticks = False):\n",
    "  plt.rcParams[\"figure.figsize\"] = (16, 10) # (w, h)\n",
    "  count = len(list_of_images)\n",
    "  for idx in range(count):\n",
    "    subplot = plt.subplot(1, count, idx+1)\n",
    "    if titles is not None:\n",
    "      subplot.set_title(titles[idx])\n",
    "      \n",
    "    img = list_of_images[idx]\n",
    "    cmap = 'gray' if (len(img.shape) == 2 or img.shape[2] == 1) else None\n",
    "    subplot.imshow(img, cmap=cmap)\n",
    "    #subplot.imshow(img, cmap=cmap,vmin=0, vmax=1) to disable normalization\n",
    "    if disable_ticks:\n",
    "      plt.xticks([]), plt.yticks([])\n",
    "  plt.show()\n",
    "\n",
    " # function for colors array generation\n",
    "def generate_colors(num):\n",
    "  r = lambda: np.random.randint(0,255)\n",
    "  return [(r(),r(),r()) for _ in range(num)] \n",
    "\n",
    "def process_video(video_path, frame_process):\n",
    "  vid = cv2.VideoCapture(video_path)\n",
    "  try:\n",
    "    while(True):\n",
    "      ret, frame = vid.read()\n",
    "      if not ret:\n",
    "        vid.release()\n",
    "        break\n",
    "\n",
    "#       frame = cv2.resize(frame, (int(frame.shape[1]), int(frame.shape[0])))        \n",
    "#       frame = cv2.cvtColor(frame, cv2.COLOR_BGR2RGB)\n",
    "\n",
    "      if frame_process is not None:\n",
    "        frame = cv2.flip(frame,1)\n",
    "        frame = frame_process(frame)\n",
    "#         frame = cv2.cvtColor(frame, cv2.COLOR_RGB2BGR)\n",
    "#         out.write(frame)\n",
    "        cv2.imshow(\"Video\",frame)\n",
    "        if cv2.waitKey(1) & 0xFF == ord('q'): \n",
    "            break\n",
    "             \n",
    "  except KeyboardInterrupt:\n",
    "    vid.release()\n",
    "    cv2.destroyAllWindows()"
   ]
  },
  {
   "cell_type": "markdown",
   "metadata": {
    "id": "bggAFSbWgQ7P"
   },
   "source": [
    "## Trying out cv2.HoughCircles to detect the circle face of the cylinder \r\n"
   ]
  },
  {
   "cell_type": "code",
   "execution_count": null,
   "metadata": {},
   "outputs": [],
   "source": [
    "def detectCircles(image):\n",
    "    output = image.copy()\n",
    "#     gray = cv2.cvtColor(image, cv2.COLOR_BGR2GRAY)\n",
    "    gray = cv2.cvtColor(image, cv2.COLOR_RGB2GRAY)\n",
    "#     G_gray = cv2.GaussianBlur(gray,(11,11),0)\n",
    "#     M_gray = cv2.medianBlur(G_gray,9)\n",
    "#     showInRow([binary])\n",
    "    circles = cv2.HoughCircles(gray, cv2.HOUGH_GRADIENT, 1.5, 100)\n",
    "#     print(circles.shape)\n",
    "    # ensure at least some circles were found\n",
    "    if circles is not None:\n",
    "      # convert the (x, y) coordinates and radius of the circles to integers\n",
    "      circles = np.round(circles[0, :]).astype(\"int\")\n",
    "      # loop over the (x, y) coordinates and radius of the circles\n",
    "      for (x, y, r) in circles:\n",
    "        # draw the circle in the output image, then draw a rectangle\n",
    "        # corresponding to the center of the circle\n",
    "        [X,Y,Z] = np.dot(Inv_intrinsic_Mtx, np.array([[x],[y],[1]]))\n",
    "        cv2.circle(output, (x, y), r, (0, 255, 0), 4)\n",
    "        cv2.rectangle(output, (x - 5, y - 5), (x + 5, y + 5), (0, 128, 255), -1)\n",
    "        cv2.putText(output,\"{:.2f},{:.2f},{:.2f}\".format(X[0],Y[0],Z[0]), (x+r,y) , cv2.FONT_HERSHEY_SIMPLEX, 0.5, (0, 0, 255), 2, cv2.LINE_AA)       # show the output image\n",
    "      # showInRow([cyl1, output])\n",
    "#       showInRow([output])\n",
    "#       cv2.waitKey(0)\n",
    "\n",
    "    return output\n"
   ]
  },
  {
   "cell_type": "code",
   "execution_count": null,
   "metadata": {},
   "outputs": [],
   "source": [
    "intrinsic_Mtx = np.load(\"mtx.npy\")                 # Intrinsics Matrix of the Webcam of My Laptop obtained from Calibration\n",
    "Inv_intrinsic_Mtx = np.linalg.inv(intrinsic_Mtx)   # Computing the Inverse Matrix of the Intrinsics Matrix\n",
    "\n",
    "process_video(0, detectCircles)"
   ]
  }
 ],
 "metadata": {
  "colab": {
   "collapsed_sections": [
    "kTjfcdmhtOa-",
    "jOHP-jHyvY_2",
    "k-dAlXst4ldH"
   ],
   "name": "CV_project_Lab4_V2.ipynb",
   "provenance": []
  },
  "kernelspec": {
   "display_name": "Python 3",
   "language": "python",
   "name": "python3"
  },
  "language_info": {
   "codemirror_mode": {
    "name": "ipython",
    "version": 3
   },
   "file_extension": ".py",
   "mimetype": "text/x-python",
   "name": "python",
   "nbconvert_exporter": "python",
   "pygments_lexer": "ipython3",
   "version": "3.8.5"
  }
 },
 "nbformat": 4,
 "nbformat_minor": 4
}
